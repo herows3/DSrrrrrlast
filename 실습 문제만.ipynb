{
 "cells": [
  {
   "cell_type": "markdown",
   "metadata": {},
   "source": [
    "## 실습 예제\n",
    "\n",
    "*모든 검정은 유의수준 5\\%로 통일한다. \n",
    "\n",
    "## 1. \n",
    "실제 모수 $\\mu=0.5$인 베르누이 확률 변수의 시뮬레이션을 통해 평균이 0.5인지를 검정해보아라. (scipy.stats의 내장함수를 이용하되, 식으로 계산한 값과 비교하여라. 난수 개수는 10으로 하여라.)"
   ]
  },
  {
   "cell_type": "markdown",
   "metadata": {},
   "source": [
    "## 2. \n",
    "실제 모수 $\\mu=0.35$ 인 베르누이 확률 변수의 시뮬레이션을 통해 귀무 가설 $H_0:\\mu=0.5$인 검정을 해보아라. (scipy.stats의 내장함수를 이용하되, 식으로 계산한 값과 비교하여라. 난수 개수는 100으로 하여라.)"
   ]
  },
  {
   "cell_type": "markdown",
   "metadata": {},
   "source": [
    "## 3. \n",
    "다음 코드를 실행하면 어느 식당의 판매 기록을 출력할 수 있다. 하나의 레코드(행)이 한 명의 손님을 나타낸다고 가정하자. 다른 열에는 성별(sex), 흡연유무(smoker), 점심/저녁(time) 등을 나타내는 데이터가 있다. 전체손님 중 비흡연자가 흡연자보다 많다고 할 수 있는가? 이에 맞는 검정을 실시하여라.\n",
    "   \n",
    "\n",
    ">import seaborn as sns <br>\n",
    "tips = sns.load_dataset(\"tips\")"
   ]
  },
  {
   "cell_type": "markdown",
   "metadata": {},
   "source": [
    "## 4. \n",
    "a반과 b반이 만점이 200점인 시험을 동일하게 보았다고 하자. 두 반의 성적은 다음과 같았다.\n",
    "\n",
    "a반 : 175, 168, 168, 190, 156, 181, 182, 175, 174, 179\n",
    "\n",
    "b반 : 185, 169, 173, 173, 188, 186, 175, 174, 179, 180\n",
    "\n",
    "두 반의 성적의 평균에 차이가 없는지에 대해 알아보려고 한다. 이에 필요한 검정을 실시하여라. (필요한 함수를 사용하되, 식으로 계산한 값과 비교하여라.)"
   ]
  },
  {
   "cell_type": "markdown",
   "metadata": {},
   "source": [
    "## 5. \n",
    "중간고사 이후 과외를 받은 10명의 학생의 중간고사 – 기말고사 점수 데이터를 가상으로 만들어서 비교해 보았다. 성적은 다음과 같다.\n",
    "\n",
    "mid : 6, 20, 21, 22, 23, 22, 27, 25, 27, 28\n",
    "\n",
    "final : 19, 22, 24, 24, 25, 25, 26, 26, 28, 32\n",
    "\n",
    "과외 전후 성적에 변화가 있는지에 대한 검정을 실시하여라. (필요한 함수를 사용하되, 식으로 계산한 값과 비교하여라.)"
   ]
  },
  {
   "cell_type": "markdown",
   "metadata": {},
   "source": [
    "## 6. \n",
    "위의 중간-기말고사 점수 데이터를 계속 사용해 보자. 기말고사의 평균 점수는 25.1점이다. 이 학생들의 기말고사 점수가 24점보다 유의하게 높은지를 검정해보아라.(필요한 함수를 사용하되, 식으로 계산한 값과 비교하여라.)"
   ]
  },
  {
   "cell_type": "markdown",
   "metadata": {},
   "source": [
    "## 7. \n",
    "(iris데이터 분석) iris 데이터의 setosa와 versicolor에 Sepal.Length에는 차이가 있는지 검정하여보자. (유의확률을 구하되, 내장함수로 구한 값과 직접 식으로 계산한 값을 비교해보자.) \n",
    "\n",
    ">from sklearn import datasets<br>\n",
    "iris=datasets.load_iris()"
   ]
  }
 ],
 "metadata": {
  "kernelspec": {
   "display_name": "Python 3",
   "language": "python",
   "name": "python3"
  },
  "language_info": {
   "codemirror_mode": {
    "name": "ipython",
    "version": 3
   },
   "file_extension": ".py",
   "mimetype": "text/x-python",
   "name": "python",
   "nbconvert_exporter": "python",
   "pygments_lexer": "ipython3",
   "version": "3.7.0"
  }
 },
 "nbformat": 4,
 "nbformat_minor": 2
}
