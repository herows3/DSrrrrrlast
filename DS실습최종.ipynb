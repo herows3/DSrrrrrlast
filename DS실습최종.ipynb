{
 "cells": [
  {
   "cell_type": "markdown",
   "metadata": {
    "slideshow": {
     "slide_type": "slide"
    }
   },
   "source": [
    "# 삼성DS과정 파이썬 실습\n"
   ]
  },
  {
   "cell_type": "markdown",
   "metadata": {
    "slideshow": {
     "slide_type": "slide"
    }
   },
   "source": [
    "##  모듈 소개\n",
    "### 1. scipy \n",
    "- 확률밀도를 구하기 위한 모듈이다.\n",
    "\n",
    "\n",
    "- import scipy 라는 명령어를통해 scipy 패키지를 불러오면, 패키지에 내장되어 있는 다양한 모듈 및 함수를 사용할 수 있다.\n",
    "\n",
    "\n",
    "- 여러 가지 통계 함수를 불러올 수 있는 모듈로는 scipy 패키지 안의 stats 모듈이 있다.\n",
    "\n",
    "\n",
    "- scipy.stats 패키지 안의 함수로 여러가지 분포함수들을 사용할 수 있다. (강의에 사용될 분포함수에는 binom, uniform, norm, chi2, t, f 등이 있다.)\n",
    "\n",
    "\n",
    "- python 에서는 패키지 안의 세부 모듈들을 따로 불러올 수 있다. 예를 들어, 이항분포 모듈을 불러오기 위해서는 from scipy.stats import binom 이라는 명령어를 사용한다. 이 명령어를 통해서 binom 모듈 안에 있는 이항분포의 다양한 함수들을 편리하게 사용할 수 있다."
   ]
  },
  {
   "cell_type": "markdown",
   "metadata": {
    "slideshow": {
     "slide_type": "slide"
    }
   },
   "source": [
    "### 2. numpy\n",
    "- 벡터, 행렬 등의 표현 및 계산을 위해서는 numpy 패키지가 필요하다.\n",
    "\n",
    "\n",
    "- 강의에는 주로 수의 제곱근형태(sqrt), 수열(arange), 나열(array),올림(ceil) 이나 집단의 평균(mean), 분산(var), 표준편차(std) 등을 구하는 데에 주로 사용된다.\n",
    "\n",
    "\n",
    "- import numpy as np 명령어를 통해서 numpy 패키지를 np라는 오브젝트에 저장한다.\n"
   ]
  },
  {
   "cell_type": "markdown",
   "metadata": {
    "slideshow": {
     "slide_type": "slide"
    }
   },
   "source": [
    "### 3. matplotlib\n",
    "- scipy 모듈 함수와 matplotlib 패키지의 pyplot 모듈을 이용해 이항분포 확률밀도함수를 그릴 수 있다. \n",
    "\n",
    "\n",
    "- import matplotlib.pyplot as plt 명령어는 matplotlib 패키지의 pyplot 모듈을 plt라는 오브젝트에 저장하는 명령어이다.\n",
    "\n",
    "\n",
    "- pyplot 모듈 내부의 함수 plot을 사용할 때, matplotlib.pyplot.plot() 명령어 대신 plt.plot()라는 명령어를 사용할 수 있다.\n",
    "\n",
    "\n",
    "- pyplot 모듈과 관련된 함수와 옵션들은 다음과 같다."
   ]
  },
  {
   "cell_type": "markdown",
   "metadata": {
    "slideshow": {
     "slide_type": "slide"
    }
   },
   "source": [
    "\n",
    " \n",
    "|     함수     | 설명 |\n",
    "|----------|-----------------|\n",
    "| <br>figure() | <br>matplotlib 에서 그래프가 들어가는 영역을 의미한다.| \n",
    "| <br>plot()   |<br>그래프를 그려준다.           | \n",
    "| <br>subplots() |<br>subplot들을 포함하는 figure를 생성해준다.            |\n",
    "|<br>legend()|<br>범례를 그려준다.|\n",
    "|<br>show()|<br>그래프를 화면에 보여준다.|\n",
    "|<br>xlabel()|<br>x축에 라벨을 출력한다.|\n",
    "|<br>ylabel()|<br>y축에 라벨을 출력한다.|\n",
    "|<br>title()|<br>타이틀을 출력한다.|\n",
    "|<br>xlim()|<br>x축의 상한/하한 값을 설정한다.|\n",
    "|<br>ylim()|<br>y축의 상한/하한 값을 설정한다.|\n",
    "|<br>subplot()|<br>subplot을 지정한다.|"
   ]
  },
  {
   "cell_type": "markdown",
   "metadata": {
    "slideshow": {
     "slide_type": "slide"
    }
   },
   "source": [
    " # 1장. 확률변수 및 확률분포\n",
    "\n",
    "## review...\n",
    " 1) 확률분포(probability distribution) : 확률변수 X가 가질 수 있는 값과 해당하는 확률에 대해 나타낸 것\n",
    "<br>\n",
    "$$Pr(a<x<b)=\\int_{a}^{b}f(x)dx$$\n",
    "\n",
    "2) 기대값(expected value) : \n",
    "\n",
    "\n",
    "- $\\mu=E(X)=\\int_{-\\infty}^{\\infty}xf(x)dx$\n",
    "\n",
    "3) 분산(varianve)과 표준편차(standard deviation) :\n",
    "\n",
    "\n",
    "- $Var(X)=E[(X-\\mu)^2]=E(X^2)-[E(X)]^2$\n",
    "\n",
    "\n",
    "- $sd(X)=\\sqrt{Var(X)}$\n"
   ]
  },
  {
   "cell_type": "markdown",
   "metadata": {
    "slideshow": {
     "slide_type": "slide"
    }
   },
   "source": [
    "4) 이항분포 :$X\\sim B(n,p)$\n",
    " - $X_1,X_2,\\dots,X_n$은 서로 독립이고, 각각 성공률이 p인 베르누이 확률변수\n",
    " \n",
    " \n",
    " - $X=X_1+X_2+\\dots,+X_n$은 성공률이 p인 베르누이 시행을 n번 반복시행한 결과로 X는 n번 시행할 때의 성공횟수이다.\n",
    " \n",
    " \n",
    " - $f(x)=\\binom{n}{x}p^x(1-p)^{n-x}$\n",
    "\n",
    "\n",
    "5) 균일분포 : $X \\sim U(a,b)$\n",
    " - 확률변수 X가 a와 b사이에서 동일한 값을 가질 때 X를 균일분포를 따른다고 한다.\n",
    " \n",
    " \n",
    " - $f(x)=\\frac{1}{b-a},a<x<b$\n",
    "\n",
    "6) 정규분포 : $X \\sim N(\\mu,\\sigma^2)$\n",
    " - 평균과 표준편차에 의해 결정되는 분포로 종형의 확률밀도함수를 갖는다.\n",
    " \n",
    " \n",
    " - $f(x)=\\frac{1}{\\sqrt{2\\pi\\sigma^2}}exp(-\\frac{(x-\\mu)^2}{2\\sigma^2})$"
   ]
  },
  {
   "cell_type": "markdown",
   "metadata": {
    "slideshow": {
     "slide_type": "slide"
    }
   },
   "source": [
    "scipy.stats.binom.pmf(x,n,p) : scipy 패키지만 불러온 경우\n",
    " \n",
    "binom.pmf(x,n,p) : scipy.stats 에서 binom 모듈을 따로 불러온 경우\n",
    " \n",
    "### 이항분포의 확률밀도 - binom.pmf(x,n,p)\n",
    "- x:이항분포를 따르는 확률변수값\n",
    "  \n",
    "  n:이항분포에서의 총 베르누이 시행횟수\n",
    "  \n",
    "  p:베르누이 시행 시 성공확률\n",
    "\n",
    "\n",
    "- $X\\sim B(n,p)$ 일 때, $Pr(X=x)={{n}\\choose{x}}P^x (1-P)^{n-x}$의 값을 구한다.\n",
    "\n",
    "### 이항분포의 누적확률 - binom.cdf(k,n,p)\n",
    "- k:0부터 k까지의 누적확률을 구한다.\n",
    "\n",
    "\n",
    "- $X \\sim B(n,p)$일 때, $Pr(X\\leq k)=\\sum_{i=0}^{k}{{n}\\choose{i}}P^i(1-P)^{n-i}$의 값을 구한다."
   ]
  },
  {
   "cell_type": "markdown",
   "metadata": {
    "slideshow": {
     "slide_type": "slide"
    }
   },
   "source": [
    "### 이항분포의 백분위수 - binom.ppf(q,n,p)\n",
    "- q:구하고 싶은 분위수\n",
    "\n",
    "\n",
    "- $X \\sim B(n,p)$일 때, $Pr(X\\leq x)=q$인 x의 값을 구한다.\n",
    "\n",
    "### 이항분포의 난수생성 - binom.rvs(n,p,size)\n",
    "- size:구하고 싶은 난수의 개수\n",
    "\n",
    "\n",
    "- $X \\sim B(n,p)$에서 'size'개의 난수를 생성한다."
   ]
  },
  {
   "cell_type": "code",
   "execution_count": 1,
   "metadata": {
    "slideshow": {
     "slide_type": "slide"
    }
   },
   "outputs": [
    {
     "name": "stdout",
     "output_type": "stream",
     "text": [
      "0.0081\n",
      "0.9887\n",
      "0.133\n"
     ]
    }
   ],
   "source": [
    "#### 어느 제품의 불량률은 10% 이다. 임의의 5개의 제품 중에 불량품이 3개일 확률은?\n",
    "import scipy\n",
    "from scipy.stats import binom\n",
    "\n",
    "print(round(binom.pmf(3,5,0.1),4))\n",
    "# round(수,자릿수):반올림함수\n",
    "\n",
    "## 어느 제품의 불량율은 10%이다. 임의의 20개의 제품 중에 불량품이 5개 이하일 확률은?\n",
    "print(round(binom.cdf(k=5,n=20,p=0.1),4))\n",
    "# print 함수는 강의자료에서 여러 결과를 나타내기 위해 사용한 것으로 생략 가능하다.\n",
    "\n",
    "## 불랑품이 4개 이상일 확률은?\n",
    "print(round(1-binom.cdf(k=3,n=20,p=0.1),4))"
   ]
  },
  {
   "cell_type": "code",
   "execution_count": 2,
   "metadata": {
    "slideshow": {
     "slide_type": "slide"
    }
   },
   "outputs": [
    {
     "name": "stdout",
     "output_type": "stream",
     "text": [
      "1.0\n",
      "[3 3 4]\n"
     ]
    }
   ],
   "source": [
    "print(binom.ppf(q=0.1875,n=5,p=0.5))\n",
    "\n",
    "print(binom.rvs(5,0.5,size=3))\n",
    "#size 옵션은 꼭 명시해주어야 한다."
   ]
  },
  {
   "cell_type": "code",
   "execution_count": 3,
   "metadata": {
    "slideshow": {
     "slide_type": "slide"
    }
   },
   "outputs": [],
   "source": [
    "#모듈을 불러온 후 그래프를 그려보자.\n",
    "\n",
    "x=range(7) \n",
    "# 0부터 7미만의 정수까지의 값으로 이루어진 수열. 즉 0,1,2,3,4,5,6\n",
    "\n",
    "fx=binom.pmf(x,6,0.5) \n",
    "# n=6, p=0.5인 이항분포\n",
    "\n",
    "import matplotlib.pyplot as plt\n",
    "def showplot():\n",
    "    plt.plot(x,fx,marker='o', linestyle='') \n",
    "    # plt.plot(x,y,color=,linestyle=,marker=,label=) \n",
    "    # x:x좌표의 값을 담고 있는 배열이나 리스트\n",
    "    # y:y좌표의 값을 담고 있는 배열이나 리스트\n",
    "    # color:색상을 지정한다.\n",
    "    # marker:점의 모양 지정한다.\n",
    "    # label:범례를 위한 라벨을 설정한다.\n",
    "    # linestyle:라인 스타일을 설정한다. 빈칸이면 점을 잇는 선이 사라짐.\n",
    "\n",
    "    plt.vlines(x,0,fx) \n",
    "    # 0부터 fx값에 이르는 직선을 그어줌으로써 막대 형태의 그래프를 만들어줄 수 있다."
   ]
  },
  {
   "cell_type": "code",
   "execution_count": 4,
   "metadata": {
    "slideshow": {
     "slide_type": "slide"
    }
   },
   "outputs": [
    {
     "data": {
      "image/png": "[encoded data removed]",
      "text/plain": [
       "<Figure size 432x288 with 1 Axes>"
      ]
     },
     "metadata": {
      "needs_background": "light"
     },
     "output_type": "display_data"
    }
   ],
   "source": [
    "showplot()\n",
    "#slide 하나에 그림을 표시하기 위해 showplot 함수를 따로 정의하였다."
   ]
  },
  {
   "cell_type": "markdown",
   "metadata": {
    "slideshow": {
     "slide_type": "slide"
    }
   },
   "source": [
    "이항분포와 마찬가지로 from scipy.stats import uniform 을 통해 균일분포 함수들을 사용할 수 있다. python에서는 location 변수와 scale 변수를 통해 Uniform(loc,loc+scale)의 형태로 균일분포를 표현한다. $X \\sim U(a,b)$ 와 같이 표현한다.\n",
    "\n",
    "\n",
    "### 균일분포의 확률밀도 - uniform.pdf(x,loc,scale)\n",
    "- x:균일분포를 따르는 확률변수값\n",
    "\n",
    "\n",
    "- loc:균일분포에서 하한값(a)\n",
    "\n",
    "\n",
    "- sclae:균일분포에서 상한값-하한값(b-a)\n",
    "\n",
    "### 균일분포의 누적확률 - uniform.cdf(x,loc,scale)\n",
    "- x:여기서의 x 값은 확률변수값 x까지의 누적확률을 구한다는 의미이다.\n",
    "\n",
    "### 균일분포의 백분위수 - uniform.ppf(q,loc,scale)\n",
    "- q:구하고 싶은 분위수\n",
    "\n",
    "### 균일분포의 난수생성 - uniform.rvs(loc,scale,size)\n",
    "- size: $X \\sim U(a,b)$에서 size개의 난수를 생성한다."
   ]
  },
  {
   "cell_type": "code",
   "execution_count": 5,
   "metadata": {
    "slideshow": {
     "slide_type": "slide"
    }
   },
   "outputs": [
    {
     "name": "stdout",
     "output_type": "stream",
     "text": [
      "0.5\n",
      "0.5\n",
      "1.0\n",
      "[1.70411136 1.87327096]\n"
     ]
    }
   ],
   "source": [
    "from scipy.stats import uniform\n",
    "\n",
    "print(uniform.pdf(x=1,loc=0,scale=2))\n",
    "\n",
    "print(uniform.cdf(x=1,loc=0,scale=2))\n",
    "\n",
    "print(uniform.ppf(q=0.5,loc=0,scale=2))\n",
    "\n",
    "print(uniform.rvs(loc=0,scale=2,size=2))"
   ]
  },
  {
   "cell_type": "markdown",
   "metadata": {
    "slideshow": {
     "slide_type": "slide"
    }
   },
   "source": [
    "from scipy.stats import norm을 통해 정규분포 함수들을 사용할 수 있다.\n",
    "### 정규분포의 확률밀도 - norm.pdf(x,loc,scale)\n",
    "- x:정규분포를 따르는 확률변수값\n",
    "\n",
    "\n",
    "- loc: 평균($\\mu$), scale: 표준편차($\\sigma$)\n",
    "\n",
    "### 정규분포의 누적확률 - norm.cdf(x,loc,scale)\n",
    "- $X \\sim N(\\mu,\\sigma^2)$의 확률밀도함수 $P(X \\leq x)$의 값을 구한다.\n",
    "\n",
    "### 정규분포의 백분위수 - norm.ppf(q,loc,scale)\n",
    "- $X \\sim N(\\mu,\\sigma^2)$일 때, $P(X \\leq x)=q$를 만족하는 x의 값을 구한다.\n",
    "\n",
    "### 정규분포의 난수생성 - norm.rvs(loc,scale,size)\n",
    "- size개 만큼의 난수를 생성한다."
   ]
  },
  {
   "cell_type": "code",
   "execution_count": 6,
   "metadata": {
    "slideshow": {
     "slide_type": "slide"
    }
   },
   "outputs": [
    {
     "data": {
      "text/plain": [
       "0.399"
      ]
     },
     "execution_count": 6,
     "metadata": {},
     "output_type": "execute_result"
    }
   ],
   "source": [
    "from scipy.stats import norm\n",
    "\n",
    "round(norm.pdf(x=0,loc=0,scale=1),3)"
   ]
  },
  {
   "cell_type": "code",
   "execution_count": 7,
   "metadata": {
    "slideshow": {
     "slide_type": "slide"
    }
   },
   "outputs": [],
   "source": [
    "## 정규분포의 확률밀도함수 그리기\n",
    "\n",
    "import numpy as np\n",
    "\n",
    "x=np.arange(-5,5.1,0.1) \n",
    "# -5부터 5까지 0.1 간격의 수열(5.1은 저장되지 않음)\n",
    "\n",
    "fx=norm.pdf(x=x,loc=0,scale=1)\n",
    "\n",
    "def showplot():\n",
    "    plt.plot(x,fx)\n",
    "\n",
    "    plt.xlabel(\"x\") \n",
    "    # x좌표 이름\n",
    "    plt.ylabel(\"fx\") \n",
    "    #y좌표 이름\n",
    "    plt.title(\"pdf of standard normal dist\") \n",
    "    # 제목"
   ]
  },
  {
   "cell_type": "code",
   "execution_count": 8,
   "metadata": {
    "slideshow": {
     "slide_type": "slide"
    }
   },
   "outputs": [
    {
     "data": {
      "image/png": "[encoded data removed]",
      "text/plain": [
       "<Figure size 432x288 with 1 Axes>"
      ]
     },
     "metadata": {
      "needs_background": "light"
     },
     "output_type": "display_data"
    }
   ],
   "source": [
    "showplot()\n",
    "#slide 하나에 그림을 표시하기 위해 showplot 함수를 따로 정의하였다."
   ]
  },
  {
   "cell_type": "code",
   "execution_count": 9,
   "metadata": {
    "slideshow": {
     "slide_type": "slide"
    }
   },
   "outputs": [
    {
     "name": "stdout",
     "output_type": "stream",
     "text": [
      "1.0\n",
      "0.841\n",
      "130.806\n"
     ]
    }
   ],
   "source": [
    "## 전구의 수명이 평균이 2000, 표준편차가 200 인 정규분포를 따를 때, 전구의 수명이 2500시간 이하일 확률은?\n",
    "print(norm.cdf(x=2500,loc=200, scale=200))\n",
    "\n",
    "## 전구의 수명이 1800시간 이상일 확률은?\n",
    "print(round(1-norm.cdf(x=1800,loc=2000,scale=200),3))\n",
    "\n",
    "## 어느 시험에서 상위 2%이내의 점수를 받아야 합격이라고 한다. 만약 시험의 점수가 평균이 100, 표준편차가 15인 정규분포를 따를 때, 시험에 합격하기 위해서는 약 몇 점 이상의 점수를 받아야 하는가?\n",
    "print(round(norm.ppf(q=0.98,loc=100,scale=15),3))"
   ]
  },
  {
   "cell_type": "code",
   "execution_count": 10,
   "metadata": {
    "slideshow": {
     "slide_type": "slide"
    }
   },
   "outputs": [
    {
     "data": {
      "text/plain": [
       "array([-11.51700744,  26.57295554,  -4.6142334 ,   4.0578316 ,\n",
       "        -8.1852554 ])"
      ]
     },
     "execution_count": 10,
     "metadata": {},
     "output_type": "execute_result"
    }
   ],
   "source": [
    "norm.rvs(loc=5,scale=10,size=5)"
   ]
  },
  {
   "cell_type": "markdown",
   "metadata": {
    "slideshow": {
     "slide_type": "slide"
    }
   },
   "source": [
    "# 2장. 표본분포\n",
    "\n",
    "## review...\n",
    "\n",
    "1) 중신극한정리 : 표본의 크기 n이 충분히 클 때에는, 임의의 모집단으로부터의 표본평균 $\\bar{X}$의 분포가 모집단의 분포와는 관계없이 근사적으로 정규분포 $N(\\mu,\\frac{\\sigma^2}{n})$을 따른다.\n",
    "- 이항분포의 정규근사 : 이항분포의 경우 n의 값이 커지면 계산이 힘들다. $X_1,X_2,\\dots,X_n$이 성공률이 p인 베르누이 분포를 따르는 무한모집단의 랜덤표본일 때, $S=\\sum_{i=1}^{n}X_i$는 이항분포 $B(n,p)$를 따르고, 모평균은 np, 모분산은 np(1-p)임을 알고 있다. 이 때 중심극한정리를 적용하면, n이 클때 다음과 같은 식이 만족한다.\n",
    "<br>\n",
    "\n",
    "$$\\frac{S-np}{\\sqrt{np(1-p)}}=\\frac{\\hat{p}-p}{\\sqrt{p(1-p)/n}}\\sim N(0,1)$$"
   ]
  },
  {
   "cell_type": "markdown",
   "metadata": {
    "slideshow": {
     "slide_type": "slide"
    }
   },
   "source": [
    "2) 카이제곱분포 : $\\sum_{i=1}^{k}Z_i^2\\sim \\chi^2(k)$\n",
    "- 확률변수 $Z_1,Z_2,\\dots,Z_k$ 이 정규분포 $N(0,1)$로부터 추출한 k개의 랜덤표본일 때, $V=Z_1^2+Z_2^2\\dots+Z_k^2$ 의 분포를 자유도 k인 카이제곱분포라고 한다.\n",
    "\n",
    "\n",
    "- 정규분포 $N(\\mu,\\sigma^2)$로부터 추출한 n개의 랜덤표본 $X_1,X_2,\\dots,X_n$ 의 표본분산 $S^2=\\frac{1}{n-1}\\sum_{i=1}^{n}(X_i-\\bar{X})^2$ 에 대해 다음이 성립한다.\n",
    "<br>\n",
    "\n",
    "$$\\frac{(n-1)S^2}{\\sigma^2} \\sim \\chi^2(n-1)$$"
   ]
  },
  {
   "cell_type": "markdown",
   "metadata": {
    "slideshow": {
     "slide_type": "slide"
    }
   },
   "source": [
    "3) t분포 : $T \\sim t(k)$\n",
    "- 표준정규분포를 따르는 확률변수를 Z라 하고, 이와는 독립이며 자유도가 k인 카이제곱분포를 따르는 확률변수를 V라고 할 때, $T=\\frac{Z}{\\sqrt{V/k}}$ 의 분포를 자유도가 k인 t분포라고 한다.\n",
    "\n",
    "\n",
    "- $X_1,X_2,\\dots,X_k$ 이 정규분포 $N(\\mu,\\sigma^2)$를 따르는 정규모집단에서 추출한 랜덤표본일 때, 스튜던트화된 표본평균의 분포가 다음과 같다.\n",
    "<br>\n",
    "\n",
    "$$\\frac{\\bar{X}-\\mu}{S/\\sqrt{n}} \\sim t(n-1)$$"
   ]
  },
  {
   "cell_type": "markdown",
   "metadata": {
    "slideshow": {
     "slide_type": "slide"
    }
   },
   "source": [
    "4) F분포 : $F \\sim F(k_1,k_2)$\n",
    "- F분포는 두 정규모집단의 분산을 비교할 때 분산의 비에 대한 추론에 이용되는 분포이다.\n",
    "\n",
    "\n",
    "- 두 확률변수 $V_1,V_2$ 가 서로 독립이고 각각 자유도가 $k_1,k_2$인 카이제곱 분포를 따를 때, $F=\\frac{V_1/k_1}{V_2/k_2}$ 의 분포를 자유도가 $(k_1,k_2)$인 F분포라고 한다.\n",
    "\n",
    "\n",
    "- 서로 독립인 두 정규모집단 $N(\\mu_1,\\sigma_1^2)$, $N(\\mu_2,\\sigma_2^2)$에서 추출한 랜덤표본 $X_1,X_2,\\dots,X_{n_1}$, $Y_1,Y_2,\\dots,Y_{n_2}$, 그리고 각각의 표본분산 $S_1^2,S_2^2$ 에 대해 다음과 같은 식이 성립한다.\n",
    "<br>\n",
    "\n",
    "$$\\frac{\\sigma_2^2}{\\sigma_1^2}.\\frac{S_1^2}{S_2^2} \\sim F(n_1-1,n_2-1)$$\n",
    "\n",
    "\n",
    "- 확률변수 F가 자유도가 $(k_1,k_2)$인 F분포를 따를 때, $\\frac{1}{F} \\sim F(k_2,k_1)$ 가 성립한다."
   ]
  },
  {
   "cell_type": "code",
   "execution_count": 11,
   "metadata": {
    "slideshow": {
     "slide_type": "slide"
    }
   },
   "outputs": [],
   "source": [
    "## 이항분포의 정규근사 그래프 그리기\n",
    "\n",
    "def showplot():\n",
    "    plt.subplot(131) \n",
    "    # subplot : plot 창을 나누는 역할, 131 : 1행 3열의 첫번째\n",
    "    plt.xlim(-3,15) \n",
    "    # xlim : 표시되는 x좌표의 범위\n",
    "    plt.plot(range(11),binom.pmf(range(11),n=10,p=0.1),marker='o')\n",
    "    plt.plot(range(-3,15),norm.pdf(range(-3,15),loc=1,scale=np.sqrt(0.9)),color='black')\n",
    "    plt.subplot(132) \n",
    "    # 1행 3열의 2번째\n",
    "    plt.xlim(-3,15)\n",
    "    plt.plot(range(16),binom.pmf(range(16),n=30,p=0.1),marker='o')\n",
    "    plt.plot(range(-3,15),norm.pdf(range(-3,15),loc=3,scale=np.sqrt(2.7)),color='black')\n",
    "    plt.subplot(133) \n",
    "    # 1행 3열의 3번째\n",
    "    plt.xlim(-3,15)\n",
    "    plt.plot(range(26),binom.pmf(range(26),n=50,p=0.1),marker='o')\n",
    "    plt.plot(range(-3,15),norm.pdf(range(-3,15),loc=5,scale=np.sqrt(4.5)),color='black')"
   ]
  },
  {
   "cell_type": "code",
   "execution_count": 12,
   "metadata": {
    "slideshow": {
     "slide_type": "slide"
    }
   },
   "outputs": [
    {
     "data": {
      "image/png": "[encoded data removed]",
      "text/plain": [
       "<Figure size 432x288 with 3 Axes>"
      ]
     },
     "metadata": {
      "needs_background": "light"
     },
     "output_type": "display_data"
    }
   ],
   "source": [
    "showplot()\n",
    "#slide 하나에 그림을 표시하기 위해 showplot 함수를 따로 정의하였다."
   ]
  },
  {
   "cell_type": "code",
   "execution_count": 13,
   "metadata": {
    "slideshow": {
     "slide_type": "slide"
    }
   },
   "outputs": [
    {
     "data": {
      "text/plain": [
       "<matplotlib.legend.Legend at 0x26c9dfc3f98>"
      ]
     },
     "execution_count": 13,
     "metadata": {},
     "output_type": "execute_result"
    },
    {
     "data": {
      "image/png": "[encoded data removed]",
      "text/plain": [
       "<Figure size 432x288 with 1 Axes>"
      ]
     },
     "metadata": {
      "needs_background": "light"
     },
     "output_type": "display_data"
    }
   ],
   "source": [
    "## 카이제곱분포의 pdf 그리기\n",
    "# from scipy.stats import chi2 코드를 이용하여 카이제곱분포 함수들을 불러온다.\n",
    "\n",
    "from scipy.stats import chi2\n",
    "\n",
    "x=np.arange(0,40.1,0.1)\n",
    "\n",
    "plt.plot(x,chi2.pdf(x,3), color='black', label='df 3')\n",
    "plt.plot(x,chi2.pdf(x,6),color='rosybrown', label='df 6')\n",
    "plt.plot(x,chi2.pdf(x,9),color='seagreen', label='df 9')\n",
    "plt.plot(x,chi2.pdf(x,20),color='blueviolet', label='df 20')\n",
    "\n",
    "plt.legend(loc='upper right') \n",
    "#우측 상단에 범례\n",
    "# plt.plot의 label 옵션을 통해 범례에 사용할 선의 이름을 지정할 수 있다.\n"
   ]
  },
  {
   "cell_type": "code",
   "execution_count": 14,
   "metadata": {
    "slideshow": {
     "slide_type": "slide"
    }
   },
   "outputs": [
    {
     "data": {
      "text/plain": [
       "<matplotlib.legend.Legend at 0x26c9e04df60>"
      ]
     },
     "execution_count": 14,
     "metadata": {},
     "output_type": "execute_result"
    },
    {
     "data": {
      "image/png": "[encoded data removed]",
      "text/plain": [
       "<Figure size 432x288 with 1 Axes>"
      ]
     },
     "metadata": {
      "needs_background": "light"
     },
     "output_type": "display_data"
    }
   ],
   "source": [
    "## t분포의 pdf 그리기\n",
    "# from scipy.stats import t 코드를 이용하여 t분포 함수들을 불러온다.\n",
    "\n",
    "from scipy.stats import t\n",
    "\n",
    "x=np.arange(-5,5.1,0.1)\n",
    "\n",
    "plt.plot(x,t.pdf(x,3), color='black', label='df 3')\n",
    "plt.plot(x,t.pdf(x,6),color='rosybrown', label='df 6')\n",
    "plt.plot(x,t.pdf(x,9),color='seagreen', label='df 9')\n",
    "plt.plot(x,t.pdf(x,20),color='blueviolet', label='df 20')\n",
    "plt.plot(x,norm.pdf(x,0,1),color='tomato', label='normal')\n",
    "\n",
    "plt.legend(loc='upper right') \n",
    "# 우측 상단에 범례\n",
    "#plt.plot의 label 옵션을 통해 범례에 사용할 선의 이름을 지정할 수 있다."
   ]
  },
  {
   "cell_type": "code",
   "execution_count": 15,
   "metadata": {
    "slideshow": {
     "slide_type": "slide"
    }
   },
   "outputs": [],
   "source": [
    "## F분포의 pdf 그리기\n",
    "# from scipy.stats import f 코드를 이용하여 F분포 함수들을 불러온다.\n",
    "\n",
    "from scipy.stats import f\n",
    "\n",
    "def showplot1():\n",
    "    x=np.arange(0.001,4.1,0.1)\n",
    "    #시작점을 0으로 설정하면 에러가 뜨기 때문에 0.001로 설정한다. log(0)term 때문에 생기는 오류로 자세히 다루지는 않는다. \n",
    "\n",
    "    plt.subplot(131)\n",
    "    plt.plot(x,f.pdf(x,3,20), color='seagreen',label='k2=20')\n",
    "    plt.plot(x,f.pdf(x,3,10), color='blueviolet',label='k2=10')\n",
    "    plt.plot(x,f.pdf(x,3,6), color='coral',label='k2=6')\n",
    "    plt.plot(x,f.pdf(x,3,3), color='black',label='k2=3')\n",
    "    plt.title('f dist w.r.t. k1=3')\n",
    "    plt.legend(loc='upper right')\n",
    "\n",
    "    plt.subplot(132)\n",
    "    plt.plot(x,f.pdf(x,10,20), color='seagreen',label='k2=20')\n",
    "    plt.plot(x,f.pdf(x,10,10), color='blueviolet',label='k2=10')\n",
    "    plt.plot(x,f.pdf(x,10,6), color='coral',label='k2=6')\n",
    "    plt.plot(x,f.pdf(x,10,3), color='black',label='k2=3')\n",
    "    plt.title('f dist w.r.t. k1=10')\n",
    "    plt.legend(loc='upper right')\n",
    "    \n",
    "    plt.subplot(133)\n",
    "    plt.plot(x,f.pdf(x,20,20), color='seagreen',label='k2=20')\n",
    "    plt.plot(x,f.pdf(x,20,10), color='blueviolet',label='k2=10')\n",
    "    plt.plot(x,f.pdf(x,20,6), color='coral',label='k2=6')\n",
    "    plt.plot(x,f.pdf(x,20,3), color='black',label='k2=3')\n",
    "    plt.title('f dist w.r.t. k1=20')\n",
    "    plt.legend(loc='upper right')"
   ]
  },
  {
   "cell_type": "code",
   "execution_count": 16,
   "metadata": {
    "slideshow": {
     "slide_type": "slide"
    }
   },
   "outputs": [
    {
     "data": {
      "image/png": "[encoded data removed]",
      "text/plain": [
       "<Figure size 432x288 with 3 Axes>"
      ]
     },
     "metadata": {
      "needs_background": "light"
     },
     "output_type": "display_data"
    }
   ],
   "source": [
    "showplot1()"
   ]
  },
  {
   "cell_type": "markdown",
   "metadata": {
    "slideshow": {
     "slide_type": "slide"
    }
   },
   "source": [
    "# 3장. 통계적 추론\n",
    "\n",
    "## review...\n",
    "\n",
    "1) 점추정 \n",
    "- 적률 추정법 : 모집단의 적률 $m_r=E(X^r)$에 대한 추정을 할 때 사용되는 표본적률은 $\\hat{m_r}=\\frac{1}{n}(X_1^r+\\dots +X_n^r)$ 이다. \n",
    "\n",
    "\n",
    "- 최대가능도 추정법 : 모수의 가능도를 최대가 되게 하는 값으로, $\\theta$ 의 최대가능도추정량은 $\\hat{\\theta}=\\arg \\max_{\\theta \\in \\Omega}L(\\theta|X_1,\\dots , X_n)$ 이다."
   ]
  },
  {
   "cell_type": "markdown",
   "metadata": {
    "slideshow": {
     "slide_type": "slide"
    }
   },
   "source": [
    "\n",
    "2) 구간추정 \n",
    "- 신뢰수준(confidence level)이 $100(1-\\alpha)\\%$인 신뢰구간 (L,U)는 다음과 같다.\n",
    "<br>\n",
    "\n",
    "$$P(L\\leq \\theta \\leq U)=1-\\alpha$$\n",
    "- $\\mu$ 의 $100(1-\\alpha)\\%$ 신뢰구간은 다음과 같다.\n",
    "<br>\n",
    "\n",
    "$$(\\bar{X}-Z_{\\frac{\\alpha}{2}}\\frac{\\sigma}{\\sqrt{n}},\\bar{X}+Z_{\\frac{\\alpha}{2}}\\frac{\\sigma}{\\sqrt{n}})$$\n",
    "- $Z_{\\frac{\\alpha}{2}}\\frac{\\alpha}{\\sqrt{n}}\\leq d$ 이므로, 오차의 한계를 d이하로 하는 표본크기 n은 다음과 같다.\n",
    "<br>\n",
    "\n",
    "$$(\\frac{Z_{\\frac{\\alpha}{2}}\\sigma}{d})^2 \\leq n$$"
   ]
  },
  {
   "cell_type": "markdown",
   "metadata": {
    "slideshow": {
     "slide_type": "slide"
    }
   },
   "source": [
    "(1) 중앙아메리카의 저소득층 원주민을 대상으로 49명의 표본조사를 한 결과 혈청 내의 콜레스테롤 양이 평균 157.02(mg/L) 이었다고 한다. 이들 원주민 전체에서 혈청 내의 콜레스트롤 양이 정규분포이고, 표준편차가 30(mg/L)라고 할 때, 원주민 전체에서 혈청 내의 콜레스테롤 양의 평균에 대하여 95% 신뢰구간을 구해보자.  \n",
    "\n",
    "(2) 모평균에 대한 95% 추정의 오차 한계를 5(mg/L) 이하로 하기를 원한다면, 몇 명 이상의 원주민을 표본으로 조사해야 하는가?  "
   ]
  },
  {
   "cell_type": "code",
   "execution_count": 17,
   "metadata": {
    "slideshow": {
     "slide_type": "slide"
    }
   },
   "outputs": [
    {
     "name": "stdout",
     "output_type": "stream",
     "text": [
      "[148.62 165.42]\n"
     ]
    }
   ],
   "source": [
    "# (1)\n",
    "n = 49; sigma=30 ; xbar = 157.02 ; alpha=0.05 ; d=5\n",
    "\n",
    "z_alpha=norm.ppf(1-alpha/2) \n",
    "# Z_{0.025}\n",
    "\n",
    "c_i=np.array([round(xbar-z_alpha*sigma/np.sqrt(n),3),round(xbar+z_alpha*sigma/np.sqrt(n),3)])\n",
    "# 참고: round함수는 array를 바로 반올림 하지 않는다. \n",
    "print(c_i)"
   ]
  },
  {
   "cell_type": "code",
   "execution_count": 18,
   "metadata": {
    "slideshow": {
     "slide_type": "slide"
    }
   },
   "outputs": [
    {
     "name": "stdout",
     "output_type": "stream",
     "text": [
      "139.0\n"
     ]
    }
   ],
   "source": [
    "# (2)\n",
    "\n",
    "min_n = (z_alpha*sigma/d)**2 \n",
    "# 정수가 아닌 수를 제곱할 때는 ^ 대신 ** 사용\n",
    "\n",
    "print(np.ceil(min_n))\n",
    "#ceil: 올림"
   ]
  },
  {
   "cell_type": "markdown",
   "metadata": {
    "slideshow": {
     "slide_type": "slide"
    }
   },
   "source": [
    "예제1)\n",
    "\n",
    "(1) 많은 심장병 환자들은 자신의 심장 박동을 제어하기 위해서 심장박동조절기를 이식한다. 플라스틱 컨넥터 모듈은 조절기의 맨 위쪽에 있다. 표준편차가 0.0015라 하고 대략적으로 정규분포를 따른다. 75개의 무선 표본을 조사한 결과 평균 깊이가 0.310이라고 한다. 어떤 제조업체에서 만든 모든 컨넥터 모듈 깊이의 평균의 95% 신뢰구간을 찾으시오.\n",
    "\n",
    "\n",
    "(2) 위 문제에서 실제 모평균에 대한 95% 추정의 오차 한계를 0.0005 이하로 하기를 원한다면, 필요한 표본 크기는?"
   ]
  },
  {
   "cell_type": "code",
   "execution_count": 19,
   "metadata": {
    "slideshow": {
     "slide_type": "notes"
    }
   },
   "outputs": [
    {
     "name": "stdout",
     "output_type": "stream",
     "text": [
      "[0.30966 0.31034]\n",
      "35.0\n"
     ]
    }
   ],
   "source": [
    "#(1)\n",
    "n=75; sigma=0.0015; xbar=0.310; alpha=0.05; d=0.0005\n",
    "\n",
    "z_alpha=norm.ppf(1-alpha/2)\n",
    "\n",
    "c_i=np.array([round(xbar-z_alpha*sigma/np.sqrt(n),5),round(xbar+z_alpha*sigma/np.sqrt(n),5)])\n",
    "#표본평균 자체가 작기 때문에 소수 5째자리까지 반올림한다.\n",
    "print(c_i)\n",
    "\n",
    "#(2)\n",
    "min_n=(z_alpha*sigma/d)**2\n",
    "\n",
    "print(np.ceil(min_n))"
   ]
  },
  {
   "cell_type": "markdown",
   "metadata": {
    "slideshow": {
     "slide_type": "slide"
    }
   },
   "source": [
    "# 4장. 모평균과 모분산에 관한 추론\n",
    "\n",
    "## review...\n",
    "\n",
    "1) 모평균에 관한 유의성 검정(모분산을 아는 경우)\n",
    "- 가설 $H_0 : \\mu=\\mu_0$\n",
    "\n",
    "\n",
    "- 검정통계량 $Z=\\frac{\\bar{X}-\\mu_0}{\\sigma/\\sqrt{n}} \\sim N(0,1)$ under $H_0$, 관측값=$z_0$\n",
    "\n",
    "  \n",
    "|      $H_1$   | 유의확률    |   기각역 |\n",
    "|:-------------:|--------|--------|\n",
    "| <br> $\\mu>\\mu_0$|<br> $P=P(Z>z_0)$      | <br>$Z> z_\\alpha$     |\n",
    "| <br>$\\mu<\\mu_0$ |<br> $P=P(Z<z_0)$   | <br> $Z< -z_\\alpha$  |\n",
    "|<br> $\\mu\\neq \\mu_0$    |<br> $P=P(\\lvert Z\\rvert>\\vert z_0\\vert)$    |  <br>$\\lvert Z \\rvert> z_{\\alpha/2}$  |"
   ]
  },
  {
   "cell_type": "markdown",
   "metadata": {
    "slideshow": {
     "slide_type": "slide"
    }
   },
   "source": [
    "2) 모평균에 관한 유의성 검정(모분산을 모르는 경우)\n",
    "- 가설 $H_0 : \\mu=\\mu_0$\n",
    "\n",
    "\n",
    "- 검정통계량 $T=\\frac{\\bar{X}-\\mu_0}{S/\\sqrt{n}}\\sim t(n-1)$ under $H_0$, 관측값=$t_0$\n",
    "\n",
    "  \n",
    "|      $H_1$   | 유의확률    |   기각역 |\n",
    "|-------------|--------|--------|\n",
    "| <br> $\\mu>\\mu_0$|<br> $P=P(T>t_0)$      | <br>$T> t_\\alpha(n-1)$     |\n",
    "|<br> $\\mu<\\mu_0$ |<br> $P=P(T<t_0)$   | <br> $T< -t_\\alpha(n-1)$  |\n",
    "        |<br> $\\mu\\neq \\mu_0$    | <br> $P=P(\\lvert T \\rvert>\\lvert t_0 \\rvert)$       | <br>  $\\lvert T\\rvert> t_{\\alpha/2}(n-1)$  |"
   ]
  },
  {
   "cell_type": "markdown",
   "metadata": {
    "slideshow": {
     "slide_type": "slide"
    }
   },
   "source": [
    "3) 대응비교에 의한 모평균 비교\n",
    "- 가설 $H_0 : \\mu_1-\\mu_2=\\delta_0$\n",
    "\n",
    "\n",
    "- 검정통계량 $T=\\frac{\\bar{D}-\\delta_0}{S_d/\\sqrt{n}}\\sim t(n-1)$ under $H_0$, 관측값=$t_0$\n",
    "\n",
    "  \n",
    "|      $H_1$   | 유의확률    |   기각역 |\n",
    "|-------------|--------|--------|\n",
    "| <br> $\\mu_1-\\mu_2>\\delta_0$| <br>$P=P(T>t_0)$      | <br>$T> t_\\alpha(n-1)$     |\n",
    "| <br>$\\mu_1-\\mu_2<\\delta_0$ | <br>$P=P(T<t_0)$   | <br> $T< -t_\\alpha(n-1)$  |\n",
    "|<br>$\\mu_1-\\mu_2\\neq \\delta_0$    | <br>$P=P(\\lvert T\\rvert>\\lvert t_0 \\rvert)$    | <br> $\\lvert T\\rvert> t_{\\alpha/2}(n-1)$  |"
   ]
  },
  {
   "cell_type": "markdown",
   "metadata": {
    "slideshow": {
     "slide_type": "slide"
    }
   },
   "source": [
    "4) 독립 이표본에 의한 모평균 비교(모분산을 아는 경우)\n",
    "- 가설 $H_0 : \\mu_1=\\mu_2$\n",
    "\n",
    "\n",
    "- 검정통계량 $Z=\\frac{(\\bar{X_1}-\\bar{X_2})-(\\mu_1-\\mu_2)}{\\sqrt{\\frac{\\sigma_1^2}{n_1}+\\frac{\\sigma_2^2}{n_2}}} \\sim N(0,1)$ under $H_0$, 관측값=$z_0$\n",
    "\n",
    "  \n",
    "|      $H_1$   | 유의확률    |   기각역 |\n",
    "|-------------|--------|--------|\n",
    "|  <br>$\\mu_1>\\mu_2$| <br>$P=P(Z>z_0)$      | <br>$Z> z_\\alpha$     |\n",
    "|<br> $\\mu_1<\\mu_2$ | <br>$P=P(Z<z_0)$   | <br> $Z< -z_\\alpha$  |\n",
    "| <br>$\\mu_1\\neq \\mu_2$    | <br>$P=P(\\lvert Z\\rvert>\\vert z_0\\vert)$    | <br> $\\lvert Z\\rvert> z_{\\alpha/2}$  |"
   ]
  },
  {
   "cell_type": "markdown",
   "metadata": {
    "slideshow": {
     "slide_type": "slide"
    }
   },
   "source": [
    "5) 독립 이표본에 의한 모평균 비교(모분산을 모르는 경우(등분산가정))\n",
    "- 가설 $H_0 : \\mu_1-\\mu_2=\\delta_0$\n",
    "\n",
    "\n",
    "- 합동표본분산 ${S_p}^2=\\frac{(n_1-1){S_1}^2+(n_2-1){S_2}^2}{n_1+n_2-2}$\n",
    "\n",
    "\n",
    "- 검정통계량 $T=\\frac{(\\bar{x_1}-\\bar{x_2})-\\delta_0}{S_p \\sqrt{\\frac{1}{n_1}+\\frac{1}{n_2}}}\\sim t(n_1+n_2-2)$ under $H_0$, 관측값=$t_0$\n",
    "\n",
    "  \n",
    "|      $H_1$   | 유의확률    |   기각역 |\n",
    "|-------------|--------|--------|\n",
    "| <br> $\\mu_1-\\mu_2>\\delta_0$| <br>$P=P(T>t_0)$      |<br> $T> t_\\alpha(n_1+n_2-2)$     |\n",
    "|<br> $\\mu_1-\\mu_2<\\delta_0$ | <br>$P=P(T<t_0)$   |  <br>$T< -t_\\alpha(n_1+n_2-2)$  |\n",
    "| <br>$\\mu_1-\\mu_2\\neq \\delta_0$    |<br> $P=P(\\lvert T\\rvert>\\vert t_0\\vert)$    | <br>$\\vert T\\vert> t_{\\alpha/2}(n_1+n_2-2)$  |"
   ]
  },
  {
   "cell_type": "markdown",
   "metadata": {
    "slideshow": {
     "slide_type": "slide"
    }
   },
   "source": [
    "6) 독립 이표본에 의한 모평균 비교(모분산을 모르는 경우(이분산가정))\n",
    "- 가설 $H_0 : \\mu_1-\\mu_2=\\delta_0$\n",
    "\n",
    "- 검정통계량 $T=\\frac{(\\bar{x_1}-\\bar{x_2})-\\delta_0}{\\sqrt{\\frac{{S_1}^2}{n_1}+\\frac{{S_2}^2}{n_2}}}\\sim t(df^*)$ under $H_0$, 관측값=t_0\n",
    "\n",
    "\n",
    "- $df^*=\\frac{({S_1}^2/n_1+{S_2}^2/n_2)^2}{\\frac{1}{n_1-1}({S_1}^2/n_1)^2+\\frac{1}{n_2-1}({S_2}^2/n_2)^2}$\n",
    "\n",
    " \n",
    "|      $H_1$   | 유의확률    |   기각역 |\n",
    "|-------------|--------|--------|\n",
    "| <br> $\\mu_1-\\mu_2>\\delta_0$|<br> $P=P(T>t_0)$      |<br> $T> t_\\alpha(df^*)$     |\n",
    "| <br>$\\mu_1-\\mu_2<\\delta_0$ |<br> $P=P(T<t_0)$   |  <br>$T< -t_\\alpha(df^*)$  |\n",
    "| <br>$\\mu_1-\\mu_2\\neq \\delta_0$    | <br>$P=P(\\vert T\\vert>\\vert t_0\\vert)$    |  <br>$\\vert T\\vert> t_{\\alpha/2}(df^*)$  |"
   ]
  },
  {
   "cell_type": "markdown",
   "metadata": {
    "slideshow": {
     "slide_type": "slide"
    }
   },
   "source": [
    "7) 모분산에 관한 유의성 검정\n",
    "- 가설 $H_0 : \\sigma^2=\\sigma_0^2$\n",
    "\n",
    "\n",
    "- 검정통계량 $\\chi^2=\\frac{(n-1)S^2}{{\\sigma}^2}\\sim \\chi^2(n-1)$ under $H_0$, 관측값=$\\chi_0^2$\n",
    "\n",
    "\n",
    " \n",
    "|      $H_1$   | 유의확률    |   기각역 |\n",
    "|-------------|--------|--------|\n",
    "|<br>  $ \\sigma^2>\\sigma_0^2$|<br> $P=P(\\chi^2>\\chi_0^2)$      | <br>$\\chi^2> \\chi_\\alpha^2(n-1)$     |\n",
    "| <br>$ \\sigma^2<\\sigma_0^2$ |<br> $P=P(\\chi^2<\\chi_0^2)$   | <br>$\\chi^2< \\chi_{1-\\alpha}^2(n-1)$  |\n",
    "| <br>$ \\sigma^2\\neq \\sigma_0^2$    | <br>$P=2P(\\chi^2>\\chi_0^2)$ or<br><br> $P=2P(\\chi^2<\\chi_0^2)$   | <br>$\\chi^2> \\chi_{\\alpha/2}^2(n-1)$ or<br><br> $\\chi^2< \\chi_{1-\\alpha/2}^2(n-1)$  |"
   ]
  },
  {
   "cell_type": "markdown",
   "metadata": {
    "slideshow": {
     "slide_type": "slide"
    }
   },
   "source": [
    "8) 두 모집단의 분산비에 관한 유의성 검정\n",
    "- 가설 $H_0 : \\sigma_1^2=\\sigma_2^2$\n",
    "\n",
    "- 검정통계량 $F=\\frac{S_1^2/\\sigma_1^2}{S_2^2/\\sigma_2^2}\\sim F(n_1-1,n_2-1)$ under $H_0$, 관측값=f\n",
    "\n",
    " \n",
    "|      $H_1$   | 유의확률    |   기각역 |\n",
    "|-------------|--------|--------|\n",
    "| <br><br> $ \\sigma_1^2>\\sigma_2^2$|<br> $P=P(F>f_0)$      | <br>$F> F_\\alpha(n_1-1,n_2-1)$     |\n",
    "| <br>$ \\sigma_1^2<\\sigma_2^2$ | <br>$P=P(F<f_0)$   |<br>$F< F_{1-\\alpha}(n_1-1,n_2-1)$   |\n",
    "| <br>$ \\sigma_1^2\\neq \\sigma_2^2$    | <br>$P=2P(F>f_0)$ or<br><br> $P=2P(F<f_0)$   | <br>$F> F_{\\alpha/2}(n_1-1,n_2-1)$   or<br><br> $F< F_{1-\\alpha/2}(n_1-1,n_2-1)$  |"
   ]
  },
  {
   "cell_type": "code",
   "execution_count": 20,
   "metadata": {
    "slideshow": {
     "slide_type": "slide"
    }
   },
   "outputs": [
    {
     "name": "stdout",
     "output_type": "stream",
     "text": [
      "2.656\n",
      "[26.062 29.438]\n"
     ]
    }
   ],
   "source": [
    "## n=64, 표본평균=27.75, 표본표준편차=5.083 인 표본을 토대로 모평균의 99% 신뢰구간을 추정해보도록 하자.\n",
    "\n",
    "n = 64; sigma=5.083 ; xbar = 27.75 ; alpha=0.01\n",
    "\n",
    "t_alpha=t.ppf(1-alpha/2, n-1) \n",
    "# t_{0.025}\n",
    "print(round(t_alpha,3))\n",
    "\n",
    "c_i=np.array([round(xbar-t_alpha*sigma/np.sqrt(n),3),round(xbar+t_alpha*sigma/np.sqrt(n),3)])\n",
    "print(c_i)"
   ]
  },
  {
   "cell_type": "markdown",
   "metadata": {
    "slideshow": {
     "slide_type": "slide"
    }
   },
   "source": [
    "예제2) 서울시 중학교 3학년 남학생의 체중 평균값을 구하기 위해 학생 9명을 무작위로 추출하여 체중을 측정해서 얻은 수치는 다음과 같다고 한다. \n",
    "\n",
    "53.0, 51.5, 47.0, 54.5, 44.0, 53.0, 45.5, 56.0, 45.5\n",
    "\n",
    "(1) 이 표본을 토대로 모평균의 95% 신뢰구간을 추정해보아라.\n",
    "\n",
    "(2) 만약 모분산이 16으로 알려져 있을 경우, 95% 신뢰구간을 추정해보아라."
   ]
  },
  {
   "cell_type": "code",
   "execution_count": 21,
   "metadata": {
    "slideshow": {
     "slide_type": "notes"
    }
   },
   "outputs": [
    {
     "name": "stdout",
     "output_type": "stream",
     "text": [
      "50.0\n",
      "4.499999999999999\n",
      "[46.541 53.459]\n",
      "[47.387 52.613]\n"
     ]
    }
   ],
   "source": [
    "#(1)\n",
    "\n",
    "x0=np.array([53.0,51.5,47.0,54.5,44.0,53.0,45.5,56.0,45.5])\n",
    "\n",
    "m=np.mean(x0)\n",
    "print(m)\n",
    "\n",
    "s=np.std(x0)*np.sqrt(9/8)\n",
    "#표본표준편차 - numpy에서 지원하는 분산 및 표준편차는 모분산과 모표준편차의 값을 제공한다. 표본분산과 표본표준편차의 값을 얻기 위해서는 각각 n/n-1, sqrt(n/n-1)을 곱해주어야 한다.\n",
    "print(s)\n",
    "\n",
    "print(np.array([round(m-t.ppf(0.975,8)*s/3,3),round(m+t.ppf(0.975,8)*s/3,3)]))\n",
    "\n",
    "#(2)\n",
    "\n",
    "print(np.array([round(m-norm.ppf(0.975)*4/3,3),round(m+norm.ppf(0.975)*4/3,3)]))"
   ]
  },
  {
   "cell_type": "markdown",
   "metadata": {
    "slideshow": {
     "slide_type": "slide"
    }
   },
   "source": [
    "### 모평균에 대한 유의성 검정(모분산을 모르는 정규모집단) \n",
    "\n",
    "\n",
    "1) 전구를 생산하는 한 회사에서 현재 생산하는 전구의 평균수명은 1950시간으로 알려져 있다. 개발 중인 전구의 평균수명이 기존의 전구보다 수명이 더 길다고 할 수 있는지 판단하기 위해 9개의 시제품을 생산하여 그 수명시간을 조사한 결과가 다음과 같다. {2000,1975,1900,2000,1950,1850,1950,2100,1975} 수명의 분포가 정규분포라는 전제하에서 가설에 대한 유의수준 5%의 검정을 해보자.\n"
   ]
  },
  {
   "cell_type": "markdown",
   "metadata": {
    "slideshow": {
     "slide_type": "slide"
    }
   },
   "source": [
    "- 가설 $H_0 : \\mu=1950$, $H_1 : \\mu>1950$\n",
    "\n",
    "\n",
    "\n",
    "- 유의수준 $\\alpha=0.05, n=9 $\n",
    "\n",
    "\n",
    "- 검정통계량 $T=\\frac{\\bar{X}-\\mu_0}{S/\\sqrt{n}}\\sim t(8)$ under $H_0$\n"
   ]
  },
  {
   "cell_type": "markdown",
   "metadata": {
    "slideshow": {
     "slide_type": "slide"
    }
   },
   "source": [
    "- spicy 패키지의 stats 서브패키지에서 다양한 통계적 검정함수를 제공한다.\n",
    "\n",
    "\n",
    "- import scipy.stats as st 명령어를 통해 서브패키지를 저장한 후 간편하게 사용한다.\n",
    "\n",
    "\n",
    "- 단, python에서 지원하는 검정함수에서는 단측가설을 지원하지 않기 때문에, 양측가설의 결과를 통해 단측가설의 결과를 추정해야 한다.\n",
    "\n",
    "\n",
    "- 일반적으로 대칭 분포를 따르는 모집단에 대한 검정에서 단측가설의 유의확률은 양측가설의 유의확률의 1/2로 나타난다.\n"
   ]
  },
  {
   "cell_type": "code",
   "execution_count": 22,
   "metadata": {
    "slideshow": {
     "slide_type": "slide"
    }
   },
   "outputs": [
    {
     "name": "stdout",
     "output_type": "stream",
     "text": [
      "0.718\n",
      "0.718\n",
      "0.246\n",
      "0.246\n"
     ]
    }
   ],
   "source": [
    "bulb=np.array([2000, 1975, 1900, 2000, 1950, 1850, 1950, 2100, 1975])\n",
    "\n",
    "import scipy.stats as st\n",
    "\n",
    "tt=st.ttest_1samp(bulb,1950) \n",
    "# ttest_1samp : 일표본 t검정 함수\n",
    "print(round(tt.statistic,3)) \n",
    "# ttest_1samp를 이용한 검정통계량\n",
    "\n",
    "m=np.mean(bulb)\n",
    "#표본평균 \n",
    "\n",
    "s=np.std(bulb)*np.sqrt(9/8)\n",
    "#표본표준편차 - numpy에서 지원하는 분산 및 표준편차는 모분산과 모표준편차의 값을 제공한다. 표본분산과 표본표준편차의 값을 얻기 위해서는 각각 n/n-1, sqrt(n/n-1)을 곱해주어야 한다.\n",
    "\n",
    "print(round((m-1950)/(s/np.sqrt(9)),3))\n",
    "# 식을 이용해 직접 계산한 검정통계량. 둘의 값은 같다.\n",
    "\n",
    "print(round(tt.pvalue/2,3)) \n",
    "# ttest_1samp를 이용한 유의확률\n",
    "\n",
    "print(round(1-t.cdf(tt.statistic,8),3))\n",
    "# 식을 이용해 직접 계산한 유의확률. 둘의 값은 같다.\n",
    "\n",
    "# 유의확률이 0.05보다 크므로 귀무가설을 기각할 수 없다."
   ]
  },
  {
   "cell_type": "markdown",
   "metadata": {
    "slideshow": {
     "slide_type": "slide"
    }
   },
   "source": [
    "2) 반도체의 전기적 특성은 그 제조과정에서 첨가되는 불순물의 양에 따라 정해진다고 한다. 특정한 용도에 사용되는 실리콘 다이오드는 0.60볼트의 가동전압이 요구되며, 이러한 목표에서 벗어나면 불순물의 양을 조절하는 장치에 대한 조정이 필요하다고 한다. 이러한 실리콘 다이오드를 제조하는 공장에서 120개를 랜덤추출하여 조사한 결과 가동전압(볼트)의 평균이 $\\bar{x}=0.62$, 표준편차가 $s=0.11$로 나타났다. 적당한 가설을 세우고, 유의수준 5%에서 가설을 검정해보자."
   ]
  },
  {
   "cell_type": "markdown",
   "metadata": {
    "slideshow": {
     "slide_type": "slide"
    }
   },
   "source": [
    "- 표본의 값이 충분히 클 때는 모집단이 정규분포를 이룬다는 가정 없이도 t검정을 할 수 있다. 또한, 기각역을 정할 때도 t분포의 백분위수 대신 표준정규분포의 백분위수를 사용할 수 있다.\n",
    "\n",
    "\n",
    "- 가설 $H_0 : \\mu=0.6$, $H_1 : \\mu \\neq 0.6$\n",
    "\n",
    "\n",
    "- 유의수준 $\\alpha=0.05, n=120$\n",
    "\n",
    "\n",
    "- 검정통계량 $T=\\frac{\\bar{X}-\\mu_0}{S/\\sqrt{n}}\\sim t(119)$ under $H_0$"
   ]
  },
  {
   "cell_type": "code",
   "execution_count": 23,
   "metadata": {
    "slideshow": {
     "slide_type": "slide"
    }
   },
   "outputs": [
    {
     "name": "stdout",
     "output_type": "stream",
     "text": [
      "1.992\n",
      "1.98\n",
      "1.96\n",
      "0.049\n"
     ]
    }
   ],
   "source": [
    "sc_xbar=0.62; sc_s=0.11; \n",
    "\n",
    "t_0=(sc_xbar-0.6)/(sc_s/np.sqrt(120))\n",
    "print(round(t_0,3))\n",
    "# 검정통계량의 관측값\n",
    "\n",
    "print(round(t.ppf(0.975,119),3))\n",
    "# 기각역의 경계값 \n",
    "print(round(norm.ppf(0.975),3))\n",
    "# 정규근사 확인\n",
    "# 검정통계량이 기각역에 포함되므로 귀무가설을 기각할 수 있다.\n",
    "\n",
    "print(round(2*(1-t.cdf(t_0,119)),3))\n",
    "# 유의확률"
   ]
  },
  {
   "cell_type": "markdown",
   "metadata": {
    "slideshow": {
     "slide_type": "slide"
    }
   },
   "source": [
    "예제3) 콜라의 단맛 감소에 대한 표본을 측정하였다. 표본의 데이터값이 1 이라면 콜라의 단맛이 1만큼 감소했다는 것을 의미한다. 표본을 추출하여 계산한 결과가 다음과 같다.\n",
    "\n",
    "표본평균=1.02,  표본표준편차=1.196,  표본 개수=10\n",
    "\n",
    "이를 바탕으로 단맛 감소가 일어난지에 대한 적당한 가설을 세우고, 유의수준 5%에서 검정해보아라."
   ]
  },
  {
   "cell_type": "markdown",
   "metadata": {
    "slideshow": {
     "slide_type": "notes"
    }
   },
   "source": [
    "- 가설 $H_0 : \\mu=0$, $H_1 : \\mu \\geq 0$\n",
    "\n",
    "\n",
    "- 유의수준 $\\alpha=0.05, n=10$\n",
    "\n",
    "\n",
    "- 검정통계량 $T=\\frac{\\bar{X}-0}{S/\\sqrt{n}}\\sim t(9)$ under $H_0$"
   ]
  },
  {
   "cell_type": "code",
   "execution_count": 24,
   "metadata": {
    "slideshow": {
     "slide_type": "notes"
    }
   },
   "outputs": [
    {
     "name": "stdout",
     "output_type": "stream",
     "text": [
      "2.697\n",
      "1.833\n",
      "0.012\n"
     ]
    }
   ],
   "source": [
    "k_xbar=1.02; k_s=1.196; n=10 \n",
    "\n",
    "t_1=(k_xbar-0)/(k_s/np.sqrt(n))\n",
    "print(round(t_1,3))\n",
    "# 검정통계량의 관측값\n",
    "\n",
    "print(round(t.ppf(0.95,9),3))\n",
    "# 기각역의 경계값 \n",
    "# 검정통계량이 기각역에 포함되므로 귀무가설을 기각할 수 있다.\n",
    "\n",
    "print(round(1-t.cdf(t_1,9),3))\n",
    "# 유의확률"
   ]
  },
  {
   "cell_type": "markdown",
   "metadata": {
    "slideshow": {
     "slide_type": "slide"
    }
   },
   "source": [
    "### 대응비교에 의한 모평균의 비교\n",
    "1) 두 종류의 진통제에 대한 상대적 효과의 척도로써, 복용 후 숙면할 수 있는 정도를 비교하려고 한다. 이러한 실험에 참여하기로 한 환자 중에서 소수의 환자를 랜덤추출하여 조사하기로 하였으나 이들 환자들의 건강상태에 상당한 차이가 있음을 알고 있다. 따라서 이들 중 6명의 환자를 랜덤추출하고 각 환자에게 두 종류의 진통제를 각각 1회씩 복용하게 하여 숙면시간의 차이를 이용하여 두 진통제의 효과를 비교하기로 하였다. 이 때, 두 진통제에 의한 숙면시간 차이의 95% 신뢰구간을 구해보자.\n",
    "\n",
    "| 환자    | 1   | 2    | 3   | 4   | 5    | 6   |\n",
    "|---------|-----|------|-----|-----|------|-----|\n",
    "|<br> 진통제A | <br>4.8 |<br> 4.0  |<br> 5.8 |<br> 4.9 |<br> 5.3  |<br> 7.4 |\n",
    "| <br>진통제B | <br>4.0 | <br>4.2  |<br> 5.2 | <br>4.9 | <br>5.6  |<br> 7.1 |\n",
    "| <br>차이    | <br>0.8 | <br>-0.2 |<br> 0.6 | <br>0.0 |<br> -0.3 | <br>0.3 |\n"
   ]
  },
  {
   "cell_type": "code",
   "execution_count": 25,
   "metadata": {
    "slideshow": {
     "slide_type": "slide"
    }
   },
   "outputs": [
    {
     "data": {
      "text/plain": [
       "array([-0.265,  0.665])"
      ]
     },
     "execution_count": 25,
     "metadata": {},
     "output_type": "execute_result"
    }
   ],
   "source": [
    "n = 6; sigma_d=0.443 ; dbar = 0.2 ; alpha=0.05 ;\n",
    "\n",
    "np.array([round(dbar - t.ppf(1-alpha/2, n-1)*sigma_d/np.sqrt(n),3), round(dbar + t.ppf(1-alpha/2, n-1)*sigma_d/np.sqrt(n),3)])"
   ]
  },
  {
   "cell_type": "markdown",
   "metadata": {
    "slideshow": {
     "slide_type": "slide"
    }
   },
   "source": [
    "2) 벨기에의 서부지역에서 공장지대가 환경에 미치는 영향을 조사하였다. 공장지대에서 방목되는 가축 11마리를 랜덤추출 후, 소변에서 불소의 농도를 방목초기와 일정기간 후에 총 두 번 측정하였다. 과연 공장지대에서 일정기간 방목된 가축의 소변에 나타나는 불소의 농도가 떨어진다는 증거가 있는가? 유의수준 1%에서 검정해보자.\n",
    "\n",
    "| 가축        | 1    | 2    | 3    | 4    | 5    | 6    | 7    | 8    | 9    | 10   | 11   |\n",
    "|-------------|------|------|------|------|------|------|------|------|------|------|------|\n",
    "| <br>방목 초기   | <br>24.7 | <br>46.1 | <br>18.5 | <br>29.5 |<br>26.3 | <br>33.9 | <br>23.1 | <br>20.7 | <br>18.0 | <br>19.3 | <br>23.0 |\n",
    "| <br>일정기간 후 | <br>12.4 | <br>14.1 | <br>7.6  | <br>9.5  | <br>19.7 | <br>10.6 | <br>9.1  | <br>11.2 | <br>13.3 | <br>8.3  | <br>15.0 |\n",
    "|<br> 차이        | <br>12.3 | <br>32.0 | <br>10.9 | <br>20.0 |<br> 6.6  | <br>23.3 | <br>14.0 | <br>9.2  | <br>4.7  | <br>11.0 |<br>8.0  |"
   ]
  },
  {
   "cell_type": "markdown",
   "metadata": {
    "slideshow": {
     "slide_type": "slide"
    }
   },
   "source": [
    "- 가설 $H_0 : \\mu_1=\\mu_2$, $H_1 : \\mu_1 \\geq \\mu_2$\n",
    "\n",
    "\n",
    "- 유의수준 $\\alpha=0.01, n=11$\n",
    "\n",
    "\n",
    "- 검정통계량 $T=\\frac{\\bar{D}-0}{S_D/\\sqrt{n}}\\sim t(10)$ under $H_0$"
   ]
  },
  {
   "cell_type": "code",
   "execution_count": 26,
   "metadata": {
    "slideshow": {
     "slide_type": "slide"
    }
   },
   "outputs": [
    {
     "name": "stdout",
     "output_type": "stream",
     "text": [
      "2.764\n",
      "5.608\n",
      "5.608\n",
      "0.0001\n"
     ]
    }
   ],
   "source": [
    "cow_1 = np.array([24.7,46.1,18.5,29.5,26.3,33.9,23.1,20.7,18.0,19.3,23.0])\n",
    "cow_2 = np.array([12.4,14.1,7.6,9.5,19.7,10.6,9.1,11.5,13.3,8.3,15.0])\n",
    "cow_d = cow_1 - cow_2\n",
    "\n",
    "print(round(t.ppf(0.99,10),3))\n",
    "# 기각역의 경계값 \n",
    "\n",
    "cow_tt=st.ttest_rel(cow_1,cow_2)\n",
    "# ttest_rel : 대응비교 t검정 함수\n",
    "print(round(cow_tt.statistic,3))\n",
    "# tttest_rel을 사용한 검정통계량\n",
    "\n",
    "d=np.mean(cow_d)\n",
    "# 차이의 평균 \n",
    "\n",
    "s=np.std(cow_d)*np.sqrt(11/10)\n",
    "# 차이의 표준편차\n",
    "\n",
    "print(round(d/(s/np.sqrt(11)),3))\n",
    "# 식을 이용하여 계산한 검정통계량. 둘의 결과는 같다.\n",
    "\n",
    "print(round(cow_tt.pvalue/2,4))\n",
    "# 유의확률\n",
    "# 검정통계량이 기각역에 포함되고, 유의확률이 0.1보다 작으므로 귀무가설을 기각할 수 있다."
   ]
  },
  {
   "cell_type": "markdown",
   "metadata": {
    "slideshow": {
     "slide_type": "slide"
    }
   },
   "source": [
    "### 독립 이표본에 의한 모평균의 비교\n",
    "1) 1972년에 출간된 Science에 마리화나의 주성분과 관련된 실험의 결과가 보고되었다. 이 실험은 마리화나 주성분인 $\\tiny{\\triangle}^9 THC$ 와 $11-OH-\\tiny{\\triangle}^9 THC$ 가 환각 효과에 미치는 영향의 차이를 알아보기 위한 것이었다. \n",
    "실험방법 : 건강상태가 비슷한 지원자 12명을 6명씩 랜덤추출하여 두 그룹으로 나눈 후 마리화나의 주성분을 정맥주사 후 환각효과가 느껴지기 시작하는 순간까지의 주사량을 체중 1kg당 $10^{-6}g$ 단위로 측정한 결과는 아래와 같다. 이를 이용하여 유의성 검정을 해보자. ($\\alpha=0.05$)\n",
    "\n",
    "$\\tiny{\\triangle}^9 THC$ : {19.54, 14.47, 16.00, 24.83, 26.39, 11.49}\n",
    " \n",
    "$11-OH-\\tiny{\\triangle}^9 THC$ : {15.95,25.89,20.53,15.52,14.18,16.00}\n",
    "  \n",
    "|    <br>  $\\text{}$   | <br>$\\tiny{\\triangle}^9 THC$    |  <br>  $11-OH-\\tiny{\\triangle}^9 THC$ |\n",
    "|-------------|--------|--------|\n",
    "| <br>표본크기    |<br> 6      | <br>6      |\n",
    "| <br>일정기간 후 | <br>18.787 | <br>18.012 |\n",
    "| <br>표준편차    | <br>5.908  | <br>4.418  |\n",
    "\n",
    "표본표준편차의 차이가 크지 않다고 판단, 등분산을 가정한다.\n",
    "\n",
    "\n"
   ]
  },
  {
   "cell_type": "markdown",
   "metadata": {
    "slideshow": {
     "slide_type": "slide"
    }
   },
   "source": [
    "- 가설 $H_0 : \\mu_1=\\mu_2$, $H_1 : \\mu_1 \\neq \\mu_2$\n",
    "\n",
    "\n",
    "- 합동표본분산 ${S_p}^2=\\frac{(n_1-1){S_1}^2+(n_2-1){S_2}^2}{n_1+n_2-2}$\n",
    "\n",
    "\n",
    "- 검정통계량 $T=\\frac{(\\bar{x_1}-\\bar{x_2})-0}{S_p \\sqrt{\\frac{1}{n_1}+\\frac{1}{n_2}}}\\sim t(n_1+n_2-2)$ under $H_0$"
   ]
  },
  {
   "cell_type": "code",
   "execution_count": 27,
   "metadata": {
    "slideshow": {
     "slide_type": "slide"
    }
   },
   "outputs": [
    {
     "name": "stdout",
     "output_type": "stream",
     "text": [
      "0.257\n",
      "0.802\n"
     ]
    }
   ],
   "source": [
    "x_1 = np.array([19.54, 14.47, 16.00, 24.83, 26.39, 11.49])\n",
    "x_2 = np.array([15.95,25.89,20.53,15.52,14.18,16.00])\n",
    "\n",
    "S_p=np.sqrt(((6)*np.var(x_1)+(6)*np.var(x_2))/(6+6-2)) \n",
    "# Pooled standard deviation\n",
    "\n",
    "tt=st.ttest_ind(x_1,x_2,equal_var=True) \n",
    "# 등분산 가정 \n",
    "# ttest_ind : 독립이표본 t검정 함수\n",
    "\n",
    "print(round(tt.statistic,3))\n",
    "#검정통계량\n",
    "\n",
    "print(round(tt.pvalue,3))\n",
    "# 유의확률\n",
    "# 귀무가설을 기각할 수 없다."
   ]
  },
  {
   "cell_type": "markdown",
   "metadata": {
    "slideshow": {
     "slide_type": "slide"
    }
   },
   "source": [
    "2) 질산칼륨의 과다 섭취가 성장을 저해하는 증거가 있는지를 알아보기 위하여 16마리의 쥐를 대상으로 실험을 하였다. 이들 중 9마리를 랜덤추출하여 2000ppm의 질산칼륨을 섭취하게 하고, 나머지 7마리는 일상적인 식사를 하게 하였다. 일정기간 후에 이들의 체중 증가율(%)을 조사한 결과 아래와 같았다.\n",
    "\n",
    "질산칼륨 섭취군 : {12.7,19.3,20.5,10.5,14.0,10.8,16.6,14.0,17.2}\n",
    "\n",
    "규정식 섭취군 : {18.2,32.9,10.0,14.3,16.2,27.6,15.7}\n",
    "\n",
    " \n",
    "|  <br>   $\\text{}$     | <br>질산칼륨 섭취군 | <br>규정식 섭취군 |\n",
    "|----------|-----------------|---------------|\n",
    "| <br>표본크기 |<br> 9               | <br>7             |\n",
    "| <br>평균     | <br>15.07           | <br>19.27         |\n",
    "| <br>표준편차 | <br>3.56            | <br>8.05          |\n",
    "\n",
    "질산칼륨의 과다 섭취가 성장을 저해하는 증거가 있는가를 유의수준 1%에서 검정해보자."
   ]
  },
  {
   "cell_type": "markdown",
   "metadata": {
    "slideshow": {
     "slide_type": "slide"
    }
   },
   "source": [
    "- 가설 $H_0 : \\mu_1=\\mu_2$, $H_1 : \\mu_1 < \\mu_2$\n",
    "\n",
    "\n",
    "- 검정통계량 $T=\\frac{(\\bar{x_1}-\\bar{x_2})-0}{\\sqrt{\\frac{{S_1}^2}{n_1}+\\frac{{S_2}^2}{n_2}}}\\sim t(df^*)$ under $H_0$\n",
    "\n",
    "\n",
    "- $df^*=\\frac{({S_1}^2/n_1+{S_2}^2/n_2)^2}{\\frac{1}{n_1-1}({S_1}^2/n_1)^2+\\frac{1}{n_2-1}({S_2}^2/n_2)^2}$"
   ]
  },
  {
   "cell_type": "code",
   "execution_count": 28,
   "metadata": {
    "slideshow": {
     "slide_type": "slide"
    }
   },
   "outputs": [
    {
     "name": "stdout",
     "output_type": "stream",
     "text": [
      "-1.287\n",
      "0.117\n"
     ]
    }
   ],
   "source": [
    "x_1 = np.array([12.7,19.3,20.5,10.5,14.0,10.8,16.6,14.0,17.2])\n",
    "x_2 = np.array([18.2,32.9,10.0,14.3,16.2,27.6,15.7])\n",
    "\n",
    "tt = st.ttest_ind(x_1,x_2,equal_var=False)\n",
    "\n",
    "print(round(tt.statistic,3))\n",
    "# 검정통계량\n",
    "\n",
    "print(round(tt.pvalue/2,3))\n",
    "# 유의확률\n",
    "# 귀무가설을 기각할 수 없다."
   ]
  },
  {
   "cell_type": "markdown",
   "metadata": {
    "slideshow": {
     "slide_type": "slide"
    }
   },
   "source": [
    "예제4) 어느 회사 간부가 사내 두 가지 부서의 직무 만족도의 차이를 알고 싶어 한다. A 부서에서 12명, B 부서에 10명의 표본 참가자를 랜덤 추출하여 검증된 설문지를 이용하여 직무 만족도도(1~10점)를 조사하였다. 결과는 다음과 같다.\n",
    "\n",
    "A(n=12) : 8.2, 8.3, 8.4, 9.3, 8.3, 7.0, 7.8, 7.9, 7.5, 9.5, 6.0, 7.6 \n",
    "\n",
    "B(n=10) : 8.2, 7.0, 6.5, 8.2, 6.4, 8.2, 6.7, 7.6, 5.3, 6.8\n",
    "\n",
    "이 회사 간부는 직무 만족도 표본평균을 통해 모평균은 차이가 있을 것이라는 결론을 내리려고 한다. 유의수준 5%에서 검정해보아라."
   ]
  },
  {
   "cell_type": "markdown",
   "metadata": {
    "slideshow": {
     "slide_type": "notes"
    }
   },
   "source": [
    "- 가설 $H_0 : \\mu_A=\\mu_B$, $H_1 : \\mu_A \\neq \\mu_B$\n",
    "\n",
    "\n",
    "- 검정통계량 $T=\\frac{(\\bar{x_A}-\\bar{x_B})-0}{\\sqrt{\\frac{{S_A}^2}{n_A}+\\frac{{S_B}^2}{n_B}}}\\sim t(df^*)$ under $H_0$\n",
    "\n",
    "\n",
    "- $df^*=\\frac{({S_A}^2/n_A+{S_B}^2/n_B)^2}{\\frac{1}{n_A-1}({S_A}^2/n_A)^2+\\frac{1}{n_B-1}({S_B}^2/n_B)^2}$"
   ]
  },
  {
   "cell_type": "code",
   "execution_count": 29,
   "metadata": {
    "slideshow": {
     "slide_type": "notes"
    }
   },
   "outputs": [
    {
     "name": "stdout",
     "output_type": "stream",
     "text": [
      "7.983\n",
      "7.09\n",
      "2.196\n",
      "2.196\n",
      "0.041\n",
      "0.041\n"
     ]
    }
   ],
   "source": [
    "A=np.array([8.2, 8.3, 8.4, 9.3, 8.3, 7.0, 7.8, 7.9, 7.5, 9.5, 6.0, 7.6])\n",
    "B=np.array([8.2, 7.0, 6.5, 8.2, 6.4, 8.2, 6.7, 7.6, 5.3, 6.8])\n",
    "\n",
    "a=np.mean(A)\n",
    "b=np.mean(B)\n",
    "print(round(a,3))\n",
    "print(round(b,3))\n",
    "\n",
    "va=np.var(A)*(12/11)\n",
    "vb=np.var(B)*(10/9)\n",
    "\n",
    "print(round((a-b)/np.sqrt(va/12+vb/10),3))\n",
    "# 직접 계산한 t통계량 \n",
    "\n",
    "import scipy.stats as st\n",
    "ct = st.ttest_ind(A,B,equal_var=False)\n",
    "\n",
    "print(round(ct.statistic,3))\n",
    "# ttest_ind를 이용한 검정통계량. 둘의 값은 같다.\n",
    "\n",
    "df=((va/12+vb/10)**2)/(((va/12)**2)/11+((vb/10)**2)/9)\n",
    "\n",
    "print(round(2*(1-t.cdf(ct.statistic,df)),3))\n",
    "print(round(ct.pvalue,3))\n",
    "# 유의확률. 둘의 값은 같다.\n",
    "# 귀무가설을 기각할 수 있다."
   ]
  },
  {
   "cell_type": "markdown",
   "metadata": {
    "slideshow": {
     "slide_type": "slide"
    }
   },
   "source": [
    "### 모분산에 관한 유의성 검정\n",
    "1) 플라스틱판을 생산하는 한 공장이 있다. 판 두께의 표준편차가 1.5mm를 상회하면 공정에 이상이 있는 것으로 간주한다. 어느 날 10개의 판을 랜덤추출하여 두께를 측정한 결과가 다음과 같다. \n",
    "\n",
    "{226,228,226,225,232,228,227,229,225,230}\n",
    "\n",
    "과거의 공정관리 기록에 의하면, 이러한 판 두께의 분포는 정규분포라고 해도 무방할 때, 공정에 이상이 있는가를 유의수준 5%에서 검정해보자. 그리고 판 두께의 표준편차에 대한 90% 신뢰구간도 구해보자."
   ]
  },
  {
   "cell_type": "markdown",
   "metadata": {
    "slideshow": {
     "slide_type": "slide"
    }
   },
   "source": [
    "- 가설 $H_0 : \\sigma^2=1.5^2$, $H_1 : \\sigma^2 > 1.5^2$\n",
    "\n",
    "\n",
    "- 검정통계량 $\\chi^2=\\frac{(n-1)S^2}{{\\sigma_0}^2}\\sim \\chi^2(9)$ under $H_0$"
   ]
  },
  {
   "cell_type": "code",
   "execution_count": 30,
   "metadata": {
    "slideshow": {
     "slide_type": "slide"
    }
   },
   "outputs": [
    {
     "name": "stdout",
     "output_type": "stream",
     "text": [
      "20.622\n",
      "16.919\n",
      "0.014\n",
      "[ 2.742 13.954]\n"
     ]
    }
   ],
   "source": [
    "from scipy.stats import chi2 \n",
    "\n",
    "x = np.array([226,228,226,225,232,228,227,229,225,230])\n",
    "\n",
    "sdx = np.std(x)*np.sqrt(10/9)\n",
    "\n",
    "chisq =  (10-1)*(sdx**2)/(1.5**2)\n",
    "print(round(chisq,3))\n",
    "\n",
    "print(round(chi2.ppf(0.95,9),3))\n",
    "# 기각역의 경계값\n",
    "\n",
    "print(round(1-chi2.cdf(chisq,9),3))\n",
    "# 유의확률\n",
    "# 귀무가설을 기각할 수 있다.\n",
    "\n",
    "print(np.array([round(chisq*(1.5**2)/(chi2.ppf(0.95,9)),3),round(chisq*(1.5**2)/(chi2.ppf(0.05,9)),3)]))"
   ]
  },
  {
   "cell_type": "markdown",
   "metadata": {
    "slideshow": {
     "slide_type": "slide"
    }
   },
   "source": [
    "### 두 모집단의 분산의 비에 관한 추론\n",
    "1) 콘크리트에 균열이 있는 경우에 이의 보수를 위하여 중합물인 폴리머를 주입한다. 다음은 Epoxy와 MME Prepolymer 두 종류의 폴리머의 주입 압축율 자료이다. 두 폴리머의 주입 압축률의 산포가 다르다는 증거가 있는가를 유의수준 5%에서 검정하고, 이들 표준편차의 비에 대한 95% 신뢰구간을 구해보자.\n",
    "\n",
    "Epoxy : {1.75, 2.12, 2.05, 1.97}\n",
    " \n",
    "MMA Prepolymer : {1.77, 1.59, 1.70, 1.69}\n",
    "\n",
    "|    <br>  $\\text{}$    | <br>Epoxy | <br>MMA |\n",
    "|----------|-----------------|---------------|\n",
    "|<br> 표본크기 |<br> 4               | <br>4           |\n",
    "| <br>평균     | <br>1.97           | <br>1.69       |\n",
    "| <br>표준편차 | <br>0.160      |<br>0.074          |\n",
    "\n",
    "\n",
    "\n",
    "\n"
   ]
  },
  {
   "cell_type": "markdown",
   "metadata": {
    "slideshow": {
     "slide_type": "slide"
    }
   },
   "source": [
    "- 가설 $H_0 : \\sigma_1^2=\\sigma_2^2$, $H_1 : \\sigma_1^2\\neq \\sigma_2^2$\n",
    "\n",
    "\n",
    "- 검정통계량 $F=\\frac{S_1^2}{S_2^2}\\sim F(3,3)$ under $H_0$"
   ]
  },
  {
   "cell_type": "code",
   "execution_count": 31,
   "metadata": {
    "slideshow": {
     "slide_type": "slide"
    }
   },
   "outputs": [
    {
     "name": "stdout",
     "output_type": "stream",
     "text": [
      "4.69\n",
      "0.065 15.439\n",
      "[ 0.304 72.417]\n",
      "0.236\n"
     ]
    }
   ],
   "source": [
    "x1 = np.array([1.75,2.12,2.05,1.97])\n",
    "x2 = np.array([1.77,1.59,1.70,1.69])\n",
    "\n",
    "# Python에서는 F분포를 통한 등분산 검정 함수를 지원하지 않는다.\n",
    "var_ratio = np.var(x1)/np.var(x2)\n",
    "print(round(var_ratio,3))\n",
    "\n",
    "print(round(1/f.ppf(0.975,3,3),3),round(f.ppf(0.975,3,3),3))\n",
    "# 기각역의 경계값\n",
    "\n",
    "print(np.array([round(var_ratio*1/f.ppf(0.975,3,3),3),round(var_ratio*f.ppf(0.975,3,3),3)]))\n",
    "\n",
    "print(round(2*(1-f.cdf(var_ratio,3,3)),3))\n",
    "# 양측 가설의 유의확률\n",
    "# 귀무가설을 기각할 수 없다."
   ]
  },
  {
   "cell_type": "markdown",
   "metadata": {
    "slideshow": {
     "slide_type": "slide"
    }
   },
   "source": [
    "예제5) 다음과 같이, 성별에 따른 문화센터 프로그램 이용시간에 대한 데이터 집합이 있다고 하자.\n",
    "\n",
    "|    <br> 성별    | <br>N |<br>평균 | <br>표준편차|\n",
    "|----------|-----------------|---------------|--|\n",
    "|<br> 남자 |<br> 167               |<br> 171.74           |<br>122.356|\n",
    "| <br>여자    | <br>130       | <br>207.92      |<br>123.845|\n",
    "\n",
    "(1) 두 모집단의 분산의 비에 관한 유의수준 5% 검정을 하고 등분산 가정이 성립하는지 추론해보자.\n",
    "\n",
    "(2) (1)의 결과에 따라 적당한 가정 하에 성별에 따른 문화센터 프로그램 이용시간에 차이가 있는지 유의수준 5%에서 검정을 하여라."
   ]
  },
  {
   "cell_type": "markdown",
   "metadata": {
    "slideshow": {
     "slide_type": "notes"
    }
   },
   "source": [
    "(1)\n",
    "- 가설 $H_0 : \\sigma_1^2=\\sigma_2^2$, $H_1 : \\sigma_1^2\\neq \\sigma_2^2$\n",
    "\n",
    "\n",
    "- 검정통계량 $F=\\frac{S_1^2}{S_2^2}\\sim F(166,129)$ under $H_0$"
   ]
  },
  {
   "cell_type": "code",
   "execution_count": 32,
   "metadata": {
    "scrolled": true,
    "slideshow": {
     "slide_type": "notes"
    }
   },
   "outputs": [
    {
     "name": "stdout",
     "output_type": "stream",
     "text": [
      "0.976\n",
      "0.719 1.391\n",
      "0.879\n"
     ]
    }
   ],
   "source": [
    "m1=171.74\n",
    "m2=207.92\n",
    "s1=122.356\n",
    "s2=123.845\n",
    "\n",
    "var_ratio = s1**2/s2**2\n",
    "print(round(var_ratio,3))\n",
    "\n",
    "print(round(1/f.ppf(0.975,166,129),3),round(f.ppf(0.975,166,129),3))\n",
    "# 기각역의 경계값\n",
    "\n",
    "print(round(2*(f.cdf(var_ratio,166,129)),3))\n",
    "# 양측 가설의 유의확률\n",
    "# 귀무가설을 기각할 수 없다. 따라서 등분간 가정이 만족한다."
   ]
  },
  {
   "cell_type": "markdown",
   "metadata": {
    "slideshow": {
     "slide_type": "notes"
    }
   },
   "source": [
    "(2) \n",
    "(1)의 결과에 따라 등분산 가정 하에 모평균 비교 검정을 할 수 있다.\n",
    "\n",
    "- 가설 $H_0 : \\mu_1=\\mu_2$, $H_1 : \\mu_1 \\neq \\mu_2$\n",
    "\n",
    "\n",
    "- 합동표본분산 ${S_p}^2=\\frac{166s1^2+129s2^2}{n_1+n_2-2}$\n",
    "\n",
    "\n",
    "- 검정통계량 $T=\\frac{(\\bar{x_1}-\\bar{x_2})-0}{S_p \\sqrt{\\frac{1}{n_1}+\\frac{1}{n_2}}}\\sim t(167+130-2)$ under $H_0$\n"
   ]
  },
  {
   "cell_type": "code",
   "execution_count": 33,
   "metadata": {
    "slideshow": {
     "slide_type": "notes"
    }
   },
   "outputs": [
    {
     "name": "stdout",
     "output_type": "stream",
     "text": [
      "-2.515\n",
      "0.012\n"
     ]
    }
   ],
   "source": [
    "S_p=np.sqrt((166*s1**2+129*s2**2)/(167+130-2)) \n",
    "# Pooled standard deviation\n",
    "\n",
    "t4=(m1-m2)/S_p/np.sqrt(1/167+1/130)\n",
    "print(round(t4,3))\n",
    "#검정통계량\n",
    "\n",
    "print(round(2*t.cdf(t4,167+130-2),3))\n",
    "# 유의확률\n",
    "# 귀무가설을 기각할 수 있다. 따라서 성별에 따라 문화센터 프로그램 이용시간은 차이를 보인다고 할 수 있다."
   ]
  }
 ],
 "metadata": {
  "celltoolbar": "Slideshow",
  "kernelspec": {
   "display_name": "Python 3",
   "language": "python",
   "name": "python3"
  },
  "language_info": {
   "codemirror_mode": {
    "name": "ipython",
    "version": 3
   },
   "file_extension": ".py",
   "mimetype": "text/x-python",
   "name": "python",
   "nbconvert_exporter": "python",
   "pygments_lexer": "ipython3",
   "version": "3.7.0"
  }
 },
 "nbformat": 4,
 "nbformat_minor": 2
}
